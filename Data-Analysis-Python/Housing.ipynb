{
 "cells": [
  {
   "cell_type": "code",
   "id": "initial_id",
   "metadata": {
    "collapsed": true
   },
   "source": "import pandas as pd",
   "outputs": [],
   "execution_count": null
  },
  {
   "metadata": {},
   "cell_type": "code",
   "source": [
    "df = pd.read_csv('Housing/Housing.csv')\n",
    "df.head()"
   ],
   "id": "e05de880bb206c7b",
   "outputs": [],
   "execution_count": null
  },
  {
   "metadata": {},
   "cell_type": "code",
   "source": "df.shape",
   "id": "833eccd02569e437",
   "outputs": [],
   "execution_count": null
  },
  {
   "metadata": {},
   "cell_type": "code",
   "source": "df.columns",
   "id": "8b11c6792aee5ca0",
   "outputs": [],
   "execution_count": null
  },
  {
   "metadata": {},
   "cell_type": "code",
   "source": "df.info()",
   "id": "776d9a33bcc7c07c",
   "outputs": [],
   "execution_count": null
  },
  {
   "metadata": {},
   "cell_type": "code",
   "source": "df.describe().T",
   "id": "815fbede4b17189b",
   "outputs": [],
   "execution_count": null
  },
  {
   "metadata": {},
   "cell_type": "code",
   "source": "df.isnull().sum()",
   "id": "3bb03fa4123628c1",
   "outputs": [],
   "execution_count": null
  },
  {
   "metadata": {},
   "cell_type": "code",
   "source": "df_encoded = df.copy()",
   "id": "ddcba22c2234e403",
   "outputs": [],
   "execution_count": null
  },
  {
   "metadata": {},
   "cell_type": "code",
   "source": [
    "cat_cols = [col for col in df_encoded.select_dtypes('object').columns]\n",
    "cat_cols"
   ],
   "id": "f067ff35521dfcb0",
   "outputs": [],
   "execution_count": null
  },
  {
   "metadata": {},
   "cell_type": "code",
   "source": [
    "furnishingstatus_mapping = {\n",
    "    'unfurnished': 0,\n",
    "    'semi-furnished': 1,\n",
    "    'furnished': 2\n",
    "}\n",
    "\n",
    "df_encoded['furnishingstatus'] = df['furnishingstatus'].map(furnishingstatus_mapping)"
   ],
   "id": "f0cc3cbbf6e8f81d",
   "outputs": [],
   "execution_count": null
  },
  {
   "metadata": {},
   "cell_type": "code",
   "source": [
    "cat_cols = [col for col in df_encoded.select_dtypes('object').columns]\n",
    "cat_cols"
   ],
   "id": "952e1111fe1094b8",
   "outputs": [],
   "execution_count": null
  },
  {
   "metadata": {},
   "cell_type": "code",
   "source": [
    "from sklearn.preprocessing import LabelEncoder\n",
    "\n",
    "le = LabelEncoder()\n",
    "\n",
    "for col in cat_cols:\n",
    "    df_encoded[col] = le.fit_transform(df[col])\n",
    "\n",
    "df_encoded.head()"
   ],
   "id": "45f6659efbcaba4c",
   "outputs": [],
   "execution_count": null
  },
  {
   "metadata": {},
   "cell_type": "code",
   "source": "df.head()",
   "id": "3b72f7b4e884f52d",
   "outputs": [],
   "execution_count": null
  },
  {
   "metadata": {},
   "cell_type": "code",
   "source": "df['furnishingstatus'].value_counts()",
   "id": "1dfe5e2617d4fe51",
   "outputs": [],
   "execution_count": null
  },
  {
   "metadata": {},
   "cell_type": "code",
   "source": "df_encoded.describe().T",
   "id": "13ee9e620a4343bb",
   "outputs": [],
   "execution_count": null
  },
  {
   "metadata": {},
   "cell_type": "markdown",
   "source": "## 2. Identifier les variables d’intérêt : la variable endogène Y et les variables potentiellement explicatives X, et faire des hypothèses sur le sens des relations statistiques\n",
   "id": "57459ac0461ee530"
  },
  {
   "metadata": {},
   "cell_type": "markdown",
   "source": [
    "In my dataset, I would consider '**price**' as the endogenous variable Y, because it's typically the target variable in housing datasets. This is the variable I'm trying to predict or explain.\n",
    "\n",
    "The potential explanatory variables (exogenous variables X) could be all the other variables in my dataset: '**area**', '**bedrooms**', '**bathrooms**', '**stories**', '**mainroad**', '**guestroom**', '**basement**', '**hotwaterheating**', '**airconditioning**', '**parking**', '**prefarea**', '**furnishingstatus**'. These are the variables that could have an impact on the price of the house.\n",
    "\n",
    "Here are some hypotheses on the direction of the statistical relationships:\n",
    "\n",
    "- '**area**': I expect a positive relationship. Larger houses (in terms of area) are usually more expensive.\n",
    "- '**bedrooms**', '**bathrooms**', '**stories**': I expect a positive relationship. Houses with more bedrooms, bathrooms, or stories are usually more expensive.\n",
    "- '**mainroad**': I expect a positive relationship. Houses located on a main road might be more expensive due to better accessibility.\n",
    "- '**guestroom**', '**basement**', '**hotwaterheating**', '**airconditioning**': I expect a positive relationship. Houses with these amenities are usually more expensive.\n",
    "- '**parking**': I expect a positive relationship. Houses with more parking spaces are usually more expensive.\n",
    "- '**prefarea**': I expect a positive relationship. Houses in a preferred area are usually more expensive.\n",
    "- '**furnishingstatus**': This could be either positive or negative depending on the level of furnishing. Fully furnished houses might be more expensive than semi-furnished or unfurnished houses.\n",
    "\n",
    "These are just hypotheses and the actual relationships need to be determined through data analysis."
   ],
   "id": "d3d64b40b97d37d8"
  },
  {
   "metadata": {},
   "cell_type": "markdown",
   "source": "## 3. Distribution de chacune de ces variables (+ représentations graphiques si besoin) et principaux indicateurs de statistique univariée",
   "id": "a0623562adca5f1c"
  },
  {
   "metadata": {},
   "cell_type": "code",
   "source": [
    "import matplotlib.pyplot as plt\n",
    "import seaborn as sns\n",
    "\n",
    "# For each column in the DataFrame\n",
    "for col in df_encoded.columns:\n",
    "    # Plot a histogram\n",
    "    plt.figure(figsize=(10, 6))\n",
    "    sns.histplot(df_encoded[col], kde=True)\n",
    "    plt.title(f'Distribution of {col}')\n",
    "    plt.show()\n",
    "\n",
    "    # Print main statistical indicators\n",
    "    print(df_encoded[col].describe())"
   ],
   "id": "1c352604e06aefee",
   "outputs": [],
   "execution_count": null
  },
  {
   "metadata": {},
   "cell_type": "markdown",
   "source": "## 4. Certaines variables X sont-elles corrélées ?",
   "id": "8545ee4be37f4b5e"
  },
  {
   "metadata": {},
   "cell_type": "code",
   "source": "corr_matrix = df_encoded.corr()",
   "id": "20d79d4eb06b6a96",
   "outputs": [],
   "execution_count": null
  },
  {
   "metadata": {},
   "cell_type": "code",
   "source": [
    "import seaborn as sns\n",
    "\n",
    "# Create a heatmap from the correlation matrix\n",
    "plt.figure(figsize=(12, 10))\n",
    "sns.heatmap(corr_matrix, annot=True, cmap='coolwarm')\n",
    "plt.show()"
   ],
   "id": "a4e50026d48a1730",
   "outputs": [],
   "execution_count": null
  },
  {
   "metadata": {},
   "cell_type": "code",
   "source": "corr_matrix['price'].sort_values(ascending=False)",
   "id": "7a489ade2ee98d09",
   "outputs": [],
   "execution_count": null
  },
  {
   "metadata": {},
   "cell_type": "markdown",
   "source": "## 5. Analyser le lien statistique entre X et Y : existe-t-il a priori ? Si oui, est-il significatif ?",
   "id": "b5d35eb16cf32b2a"
  },
  {
   "metadata": {},
   "cell_type": "markdown",
   "source": [
    "From the sorted table of correlations between the variables and the price above we can see that in our case, all the correlation coefficients are positive, which means that all the variables tend to increase as the price increases.\n",
    "<br>\n",
    "However, the strength of these relationships varies:  \n",
    "* '**area**', '**bathrooms**', '**airconditioning**', '**stories**', and '**parking**' have the highest correlation coefficients with '**price**', all being above 0.38. This suggests that these variables have a relatively strong positive relationship with 'price'. In other words, houses with larger areas, more bathrooms, air conditioning, more stories, and more parking spaces tend to be more expensive.\n",
    "<br>  \n",
    "* '**bedrooms**', '**prefarea**', '**furnishingstatus**', '**mainroad**', '**guestroom**', and '**basement**' have moderate correlation coefficients with '**price**', ranging from 0.19 to 0.37. This suggests that these variables have a moderate positive relationship with 'price'. For example, houses with more bedrooms, located in a preferred area, with a higher furnishing status, on a main road, with a guest room, and with a basement tend to be somewhat more expensive, but the effect is not as strong as the previous variables.\n",
    "<br>\n",
    "* '**hotwaterheating**' has the lowest correlation coefficient with '**price**', at 0.093. This suggests that this variable has a weak positive relationship with 'price'. Houses with hot water heating might be slightly more expensive, but the effect is weak. "
   ],
   "id": "bc19a201a156ba66"
  },
  {
   "metadata": {},
   "cell_type": "markdown",
   "source": "## 6. Modéliser ce lien par l’analyse de régression : estimer les paramètres, tester leur significativité et interpréter les résultats",
   "id": "2a1167030d49883f"
  },
  {
   "metadata": {},
   "cell_type": "code",
   "source": [
    "import statsmodels.api as sm\n",
    "\n",
    "# Define X and Y\n",
    "X = df_encoded.drop('price', axis=1)\n",
    "Y = df_encoded['price']\n",
    "\n",
    "# Add a constant to X\n",
    "X = sm.add_constant(X)\n",
    "\n",
    "# Create a model\n",
    "model = sm.OLS(Y, X)\n",
    "\n",
    "# Fit the model\n",
    "results = model.fit()\n",
    "\n",
    "# Print the summary\n",
    "results.summary()"
   ],
   "id": "a8cb78fab8eaaa5",
   "outputs": [],
   "execution_count": null
  },
  {
   "metadata": {},
   "cell_type": "markdown",
   "source": [
    "* **R-squared**: This is the coefficient of determination. It tells you the proportion of the variance in the dependent variable that is predictable from the independent variables. In this case, it's 0.680, which means that about 68% of the variability in 'price' can be explained by the independent variables in the model.  \n",
    "* **Adj. R-squared**: This is the adjusted R-squared, which adjusts the statistic based on the number of independent variables in the model. It's slightly less than the R-squared, which is expected as it penalizes the addition of uninformative predictors in the model.  \n",
    "* **coef**: These are the coefficients for each variable. They represent the change in the dependent variable (price) for a one-unit change in the corresponding independent variable, assuming all other variables are held constant. For example, the coefficient for 'area' is 243.9069, which suggests that for each additional unit of area, we can expect the price to increase by approximately 243.9069 units, assuming all other variables are held constant.  \n",
    "* **std err**: This is the standard error of the estimate of the coefficient. Smaller values are better as they indicate that the estimate of the coefficient is more precise.  \n",
    "* **t**: This is the t-statistic. It's the coefficient divided by the standard error.  \n",
    "* **P>|t|**: This is the p-value. A p-value less than 0.05 is typically considered to indicate a statistically significant coefficient. For example, the p-value for 'area' is 0.000, which suggests that area is a statistically significant predictor of price.  \n",
    "* **\\[0.025 0.975\\]**: These are the 95% confidence intervals for the coefficients. If the interval does not contain zero, it suggests that the variable is a significant predictor of the dependent variable.  \n",
    "* **Omnibus/Prob(Omnibus)**: These tests are for the skewness and kurtosis of the residual (the difference between the observed and predicted values). A Prob(Omnibus) close to zero indicates that the residuals are not normally distributed.  \n",
    "* **Durbin-Watson**: This tests for homoscedasticity. Values between 1 and 2 generally indicate that the residuals are homoscedastic and errors are uncorrelated.  \n",
    "* **Jarque-Bera (JB)/Prob(JB)**: This is another test of the skewness and kurtosis of the residuals. A Prob(JB) close to zero indicates that the residuals are not normally distributed.  \n",
    "* **Cond. No.**: This is a test for multicollinearity. A large condition number (above 20) indicates potential problems with multicollinearity.  \n",
    "In our model, most of the variables seem to be significant predictors of price (p-value < 0.05), except for '**bedrooms**'. The model might suffer from multicollinearity (Cond. No. is large) and the residuals are not normally distributed (Prob(Omnibus) and Prob(JB) are close to zero)."
   ],
   "id": "c27f7809da97496a"
  },
  {
   "metadata": {},
   "cell_type": "markdown",
   "source": "## 7. A ce stade, l’analyse semble-t-elle présenter des biais statistiques ? (biais de variable omise, causalité inverse, outliers perturbant le lien entre X et Y ?)",
   "id": "b83a78a55cc8e541"
  },
  {
   "metadata": {},
   "cell_type": "markdown",
   "source": [
    "* **Omitted Variable Bias**: This occurs when a variable that influences the dependent variable is not included in the model. If such a variable also correlates with variables included in the model, it can lead to biased and inconsistent estimates. ***In this case, there might be other factors influencing the price of a house (like the age of the house, proximity to amenities, etc.) that are not included in the dataset.***\n",
    "* **Reverse Causality**: This refers to a situation where the dependent variable is causing or influencing the independent variable, rather than the other way around. In this context, it's unlikely that the price of a house would influence its characteristics (like area, number of bedrooms, etc.), so ***reverse causality is probably not a concern here***.\n",
    "* **Outliers**: Outliers can have a large influence on the results of a regression analysis, especially if the sample size is small. If there are houses in the dataset with characteristics or prices that are significantly different from the others, they could be influencing the results. You can check for outliers by examining the residuals from the regression (the difference between the observed and predicted values). Large residuals could indicate the presence of outliers. "
   ],
   "id": "4d33c32f15a80be0"
  },
  {
   "metadata": {},
   "cell_type": "markdown",
   "source": "## 8. L’analyse pourrait-elle être affinée en ré-estimant le lien entre X et Y pour différents groupes d’individus ?",
   "id": "70f52cdcae83c73a"
  },
  {
   "metadata": {},
   "cell_type": "markdown",
   "source": "I think that yes, the analysis could potentially be refined by re-estimating the relationship between X and Y for different groups of individuals. This is often referred to as \"stratified analysis\" or \"grouped analysis\".  For example, if you believe that the relationship between the independent variables and the price might be different for houses with and without air conditioning, you could split the dataset into two groups based on the '**airconditioning**' variable and run separate regressions for each group. ",
   "id": "95317f6ef872178e"
  }
 ],
 "metadata": {
  "kernelspec": {
   "display_name": "Python 3",
   "language": "python",
   "name": "python3"
  },
  "language_info": {
   "codemirror_mode": {
    "name": "ipython",
    "version": 2
   },
   "file_extension": ".py",
   "mimetype": "text/x-python",
   "name": "python",
   "nbconvert_exporter": "python",
   "pygments_lexer": "ipython2",
   "version": "2.7.6"
  }
 },
 "nbformat": 4,
 "nbformat_minor": 5
}
